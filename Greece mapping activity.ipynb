{
    "cells": [
        {
            "metadata": {},
            "cell_type": "markdown",
            "source": "# Please press the run button tht should be somewhere above this text."
        },
        {
            "metadata": {},
            "cell_type": "markdown",
            "source": "# #Make sure to press the button until you reach the end."
        },
        {
            "metadata": {},
            "cell_type": "code",
            "source": "import numpy as np \nprint('imported numpy')\nimport pandas as pd \npd.set_option('display.max_columns', None)\npd.set_option('display.max_rows', None)\nprint('imported pandas')\nimport json \nprint('imported json')\nfrom geopy.geocoders import Nominatim \nprint('conda imported nominatim')\nimport requests \nfrom pandas.io.json import json_normalize \nprint('imported requests')\nimport matplotlib.cm as cm\nimport matplotlib.colors as colors\nprint('imported matplotlib')\nfrom sklearn.cluster import KMeans\nprint('imported kmeans')\nprint('y')\nprint('y')\nprint('conda get beautiful soup')\nfrom bs4 import BeautifulSoup\nprint('imported beautiful soup')\nimport xml\nprint('imported xml')\n! pip install folium\nimport folium \nprint('conda imported folium')\nprint('Libraries imported.')",
            "execution_count": 143,
            "outputs": [
                {
                    "output_type": "stream",
                    "text": "imported numpy\nimported pandas\nimported json\nconda imported nominatim\nimported requests\nimported matplotlib\nimported kmeans\ny\ny\nconda get beautiful soup\nimported beautiful soup\nimported xml\nRequirement already satisfied: folium in /opt/conda/envs/Python-3.7-main/lib/python3.7/site-packages (0.12.0)\nRequirement already satisfied: requests in /opt/conda/envs/Python-3.7-main/lib/python3.7/site-packages (from folium) (2.24.0)\nRequirement already satisfied: branca>=0.3.0 in /opt/conda/envs/Python-3.7-main/lib/python3.7/site-packages (from folium) (0.4.2)\nRequirement already satisfied: numpy in /opt/conda/envs/Python-3.7-main/lib/python3.7/site-packages (from folium) (1.18.5)\nRequirement already satisfied: jinja2>=2.9 in /opt/conda/envs/Python-3.7-main/lib/python3.7/site-packages (from folium) (2.11.2)\nRequirement already satisfied: chardet<4,>=3.0.2 in /opt/conda/envs/Python-3.7-main/lib/python3.7/site-packages (from requests->folium) (3.0.4)\nRequirement already satisfied: idna<3,>=2.5 in /opt/conda/envs/Python-3.7-main/lib/python3.7/site-packages (from requests->folium) (2.9)\nRequirement already satisfied: certifi>=2017.4.17 in /opt/conda/envs/Python-3.7-main/lib/python3.7/site-packages (from requests->folium) (2020.12.5)\nRequirement already satisfied: urllib3!=1.25.0,!=1.25.1,<1.26,>=1.21.1 in /opt/conda/envs/Python-3.7-main/lib/python3.7/site-packages (from requests->folium) (1.25.9)\nRequirement already satisfied: MarkupSafe>=0.23 in /opt/conda/envs/Python-3.7-main/lib/python3.7/site-packages (from jinja2>=2.9->folium) (1.1.1)\nconda imported folium\nLibraries imported.\n",
                    "name": "stdout"
                }
            ]
        },
        {
            "metadata": {},
            "cell_type": "code",
            "source": "latitude = 39.0742\nlongitude = 21.8243",
            "execution_count": 144,
            "outputs": []
        },
        {
            "metadata": {},
            "cell_type": "code",
            "source": "map_greece = folium.Map(location=[latitude, longitude], zoom_start=6)\n#Above is important\nfolium.CircleMarker(\n        [37.9838, 23.7275],\n        radius=7,\n        popup='Athens',\n        color='yellow',\n        fill=True,\n        fill_color='#fcf800',\n        fill_opacity=1,\n        parse_html=False).add_to(map_greece)",
            "execution_count": 145,
            "outputs": [
                {
                    "output_type": "execute_result",
                    "execution_count": 145,
                    "data": {
                        "text/plain": "<folium.vector_layers.CircleMarker at 0x7f1fda29cc10>"
                    },
                    "metadata": {}
                }
            ]
        },
        {
            "metadata": {},
            "cell_type": "code",
            "source": "folium.CircleMarker(\n        [37.0745, 22.4303],\n        radius=7,\n        popup='Sparta',\n        color='green',\n        fill=True,\n        fill_color='#3199cc',\n        fill_opacity=0.5,\n        parse_html=False).add_to(map_greece)",
            "execution_count": 146,
            "outputs": [
                {
                    "output_type": "execute_result",
                    "execution_count": 146,
                    "data": {
                        "text/plain": "<folium.vector_layers.CircleMarker at 0x7f1fda29be10>"
                    },
                    "metadata": {}
                }
            ]
        },
        {
            "metadata": {},
            "cell_type": "code",
            "source": "folium.CircleMarker(\n        [39.9589, 26.2364],\n        radius=7,\n        popup='Troy',\n        color='Ornage',\n        fill=True,\n        fill_color='#fca800',\n        fill_opacity=0.5,\n        parse_html=False).add_to(map_greece)",
            "execution_count": 147,
            "outputs": [
                {
                    "output_type": "execute_result",
                    "execution_count": 147,
                    "data": {
                        "text/plain": "<folium.vector_layers.CircleMarker at 0x7f1fda292a50>"
                    },
                    "metadata": {}
                }
            ]
        },
        {
            "metadata": {},
            "cell_type": "code",
            "source": "folium.CircleMarker(\n        [35.2985, 25.1596],\n        radius=7,\n        popup='Knossos',\n        color='Silver',\n        fill=True,\n        fill_color='#c0c0c0',\n        fill_opacity=0.5,\n        parse_html=False).add_to(map_greece)",
            "execution_count": 148,
            "outputs": [
                {
                    "output_type": "execute_result",
                    "execution_count": 148,
                    "data": {
                        "text/plain": "<folium.vector_layers.CircleMarker at 0x7f1fda2891d0>"
                    },
                    "metadata": {}
                }
            ]
        },
        {
            "metadata": {},
            "cell_type": "code",
            "source": "folium.CircleMarker(\n        [38.4801, 22.4941],\n        radius=7,\n        popup='Delphi',\n        color='purple',\n        fill=True,\n        fill_color='#800080',\n        fill_opacity=0.5,\n        parse_html=False).add_to(map_greece)",
            "execution_count": 149,
            "outputs": [
                {
                    "output_type": "execute_result",
                    "execution_count": 149,
                    "data": {
                        "text/plain": "<folium.vector_layers.CircleMarker at 0x7f1fda2ac790>"
                    },
                    "metadata": {}
                }
            ]
        },
        {
            "metadata": {},
            "cell_type": "code",
            "source": "folium.CircleMarker(\n        [38.4801, 22.4941],\n        radius=7,\n        popup='Delphi',\n        color='purple',\n        fill=True,\n        fill_color='#800080',\n        fill_opacity=0.5,\n        parse_html=False).add_to(map_greece)",
            "execution_count": 150,
            "outputs": [
                {
                    "output_type": "execute_result",
                    "execution_count": 150,
                    "data": {
                        "text/plain": "<folium.vector_layers.CircleMarker at 0x7f1fda2acd90>"
                    },
                    "metadata": {}
                }
            ]
        },
        {
            "metadata": {},
            "cell_type": "code",
            "source": "folium.CircleMarker(\n        [37.6352, 22.7289],\n        radius=7,\n        popup='Argos',\n        color='blue',\n        fill=True,\n        fill_color='#ffffff',\n        fill_opacity=0.5,\n        parse_html=False).add_to(map_greece)",
            "execution_count": 151,
            "outputs": [
                {
                    "output_type": "execute_result",
                    "execution_count": 151,
                    "data": {
                        "text/plain": "<folium.vector_layers.CircleMarker at 0x7f1fda29d850>"
                    },
                    "metadata": {}
                }
            ]
        },
        {
            "metadata": {},
            "cell_type": "code",
            "source": "folium.CircleMarker(\n        [34.5531, 18.0480],\n        radius=30,\n        popup='Mediterranean Sea',\n        color='dark blue',\n        fill=True,\n        fill_color='#00008B',\n        fill_opacity=1,\n        parse_html=False).add_to(map_greece)                     #Type what is inside the quotation marks \"map_\" then type what country this was all about after the underscore ",
            "execution_count": 152,
            "outputs": [
                {
                    "output_type": "execute_result",
                    "execution_count": 152,
                    "data": {
                        "text/plain": "<folium.vector_layers.CircleMarker at 0x7f1fda2a9890>"
                    },
                    "metadata": {}
                }
            ]
        },
        {
            "metadata": {},
            "cell_type": "code",
            "source": "folium.CircleMarker(\n        [39.0192, 25.2686],#Once that is done you just press the play button to run the code.\n        radius=30,\n        popup='Aegean Sea',\n        color='light blue',\n        fill=True,\n        fill_color='#5eb3ce',\n        fill_opacity=1,\n        parse_html=False).add_to(map_greece)",
            "execution_count": 153,
            "outputs": [
                {
                    "output_type": "execute_result",
                    "execution_count": 153,
                    "data": {
                        "text/plain": "<folium.vector_layers.CircleMarker at 0x7f1fda2a8150>"
                    },
                    "metadata": {}
                }
            ]
        },
        {
            "metadata": {},
            "cell_type": "code",
            "source": "folium.CircleMarker(\n        [35.8364, 24.7143],\n        radius=15,\n        popup='Sea of Crete',\n        color='light green',\n        fill=True,\n        fill_color='#90EE90',\n        fill_opacity=1,\n        parse_html=False).add_to(map_greece)",
            "execution_count": 154,
            "outputs": [
                {
                    "output_type": "execute_result",
                    "execution_count": 154,
                    "data": {
                        "text/plain": "<folium.vector_layers.CircleMarker at 0x7f1fda2a89d0>"
                    },
                    "metadata": {}
                }
            ]
        },
        {
            "metadata": {},
            "cell_type": "code",
            "source": "folium.CircleMarker(\n        [35.2401, 24.8093],\n        radius=7,\n        popup='Crete',\n        color='red',\n        fill=True,\n        fill_color='#ffffff',\n        fill_opacity=0.0,\n        parse_html=False).add_to(map_greece)",
            "execution_count": 155,
            "outputs": [
                {
                    "output_type": "execute_result",
                    "execution_count": 155,
                    "data": {
                        "text/plain": "<folium.vector_layers.CircleMarker at 0x7f1fda2b4290>"
                    },
                    "metadata": {}
                }
            ]
        },
        {
            "metadata": {},
            "cell_type": "code",
            "source": "folium.CircleMarker(\n        [35.1264, 33.4299],\n        radius=7,\n        popup='Cyprus',\n        color='pink',\n        parse_html=False).add_to(map_greece)",
            "execution_count": 156,
            "outputs": [
                {
                    "output_type": "execute_result",
                    "execution_count": 156,
                    "data": {
                        "text/plain": "<folium.vector_layers.CircleMarker at 0x7f1fda2ac690>"
                    },
                    "metadata": {}
                }
            ]
        },
        {
            "metadata": {},
            "cell_type": "code",
            "source": "folium.CircleMarker(\n        [40.0834, 22.3499],\n        radius=7,\n        popup='Mount Olympus',\n        color='brown',\n        fill=True,\n        fill_color='#ffffff',\n        fill_opacity=0.0,\n        parse_html=False).add_to(map_greece)",
            "execution_count": 157,
            "outputs": [
                {
                    "output_type": "execute_result",
                    "execution_count": 157,
                    "data": {
                        "text/plain": "<folium.vector_layers.CircleMarker at 0x7f1fda289e90>"
                    },
                    "metadata": {}
                }
            ]
        },
        {
            "metadata": {},
            "cell_type": "code",
            "source": "folium.CircleMarker(\n        [37.9715, 23.7267],\n        radius=7,\n        popup='Parthenon',\n        color='orange',\n        fill=True,\n        fill_color='#ffffff',\n        fill_opacity=0.0,\n        parse_html=False).add_to(map_greece)",
            "execution_count": 158,
            "outputs": [
                {
                    "output_type": "execute_result",
                    "execution_count": 158,
                    "data": {
                        "text/plain": "<folium.vector_layers.CircleMarker at 0x7f1fdaf063d0>"
                    },
                    "metadata": {}
                }
            ]
        },
        {
            "metadata": {},
            "cell_type": "markdown",
            "source": "# This project took me about an hour and a half. Yeet. Here is the final project. If you want a tutorial on how to get the map up then just ask me or figure out the clues around the code. Done and Done. Hint: You will need to type something into the space below."
        },
        {
            "metadata": {},
            "cell_type": "markdown",
            "source": "#######Just scroll up to the comments to know how to pull the map up."
        },
        {
            "metadata": {},
            "cell_type": "code",
            "source": "#Another Hint. m a p _ g r e e c e. Put that together.",
            "execution_count": 199,
            "outputs": []
        },
        {
            "metadata": {},
            "cell_type": "code",
            "source": "",
            "execution_count": null,
            "outputs": []
        }
    ],
    "metadata": {
        "kernelspec": {
            "name": "python3",
            "display_name": "Python 3.7",
            "language": "python"
        },
        "language_info": {
            "name": "python",
            "version": "3.7.9",
            "mimetype": "text/x-python",
            "codemirror_mode": {
                "name": "ipython",
                "version": 3
            },
            "pygments_lexer": "ipython3",
            "nbconvert_exporter": "python",
            "file_extension": ".py"
        }
    },
    "nbformat": 4,
    "nbformat_minor": 1
}